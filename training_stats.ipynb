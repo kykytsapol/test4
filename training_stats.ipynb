{
 "cells": [
  {
   "cell_type": "code",
   "execution_count": null,
   "id": "d6333170",
   "metadata": {},
   "outputs": [],
   "source": [
    "model_dir = 'models/LMD2'"
   ]
  },
  {
   "cell_type": "markdown",
   "id": "af7b15e2",
   "metadata": {},
   "source": [
    "Plot losses:"
   ]
  },
  {
   "cell_type": "code",
   "execution_count": null,
   "id": "c0e63cfc",
   "metadata": {},
   "outputs": [],
   "source": [
    "from plots import plot_losses"
   ]
  },
  {
   "cell_type": "code",
   "execution_count": null,
   "id": "12838fb7",
   "metadata": {},
   "outputs": [],
   "source": [
    "# Uncomment the losses that have to be plotted\n",
    "losses = [\n",
    "    #'tot',\n",
    "    #'structure',\n",
    "    'pitch',\n",
    "    'dur',\n",
    "    #'reconstruction',\n",
    "    #'kld',\n",
    "    #'beta*kld'\n",
    "]\n",
    "plot_losses(model_dir, losses, plot_val=True)"
   ]
  },
  {
   "cell_type": "markdown",
   "id": "4c37d02c",
   "metadata": {},
   "source": [
    "Plot accuracies:"
   ]
  },
  {
   "cell_type": "code",
   "execution_count": null,
   "id": "a50f86e0",
   "metadata": {},
   "outputs": [],
   "source": [
    "from plots import plot_accuracies"
   ]
  },
  {
   "cell_type": "code",
   "execution_count": null,
   "id": "b8d73b0d",
   "metadata": {},
   "outputs": [],
   "source": [
    "# Uncomment the accuracies that have to be plotted\n",
    "accuracies = [\n",
    "    #'s_acc',\n",
    "    #'s_precision',\n",
    "    #'s_recall',\n",
    "    #'s_f1',\n",
    "    'pitch',\n",
    "    'pitch_drums',\n",
    "    'pitch_non_drums',\n",
    "    #'dur',\n",
    "    #'note'\n",
    "]\n",
    "plot_accuracies(model_dir, accuracies, plot_val=True)"
   ]
  },
  {
   "cell_type": "code",
   "execution_count": null,
   "id": "81432128",
   "metadata": {},
   "outputs": [],
   "source": []
  }
 ],
 "metadata": {
  "kernelspec": {
   "display_name": "Python 3 (ipykernel)",
   "language": "python",
   "name": "python3"
  },
  "language_info": {
   "codemirror_mode": {
    "name": "ipython",
    "version": 3
   },
   "file_extension": ".py",
   "mimetype": "text/x-python",
   "name": "python",
   "nbconvert_exporter": "python",
   "pygments_lexer": "ipython3",
   "version": "3.7.12"
  }
 },
 "nbformat": 4,
 "nbformat_minor": 5
}
